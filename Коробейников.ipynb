{
 "cells": [
  {
   "cell_type": "markdown",
   "metadata": {},
   "source": [
    "# Зачетная работа \n",
    "*Коробейников А.П.*"
   ]
  },
  {
   "cell_type": "markdown",
   "metadata": {},
   "source": [
    "## 4. Численное интегрирование. Светимость черного тела\n",
    "Согласно *формуле Планка* спектральная плотность энергетической светимости \n",
    "абсолютно чёрного тела\n",
    "равна\n",
    "$$\n",
    "\\varphi(\\lambda, T) =\\frac{2 \\pi h c^2}{\\lambda^5 \\left(e^{\\frac{h c}{\\lambda k T}} - 1\\right)},\n",
    "$$\n",
    "где\n",
    "$h = 6.6261 \\times 10^{-34}$ (постоянная Планка, $\\mbox{Вт}\\cdot\\mbox{с}^2$);\n",
    "$k = 1.3806 \\times 10^{-23}$ (постоянная Больцмана, Вт с/K);\n",
    "$c = 2.9979 \\times 10^{8}$   (скорость света, м/с);\n",
    "$T = 5778$ (эффективная температура Солнца, К).\n",
    "Формула Планка позволяет узнать, какую энергию излучает единица поверхности тела с эффективной температурой $T$\n",
    "за единицу времени на каждой единице длины волны $\\lambda$.\n",
    "Для определения энергии, излучаемой телом в определенном диапазоне частот\n",
    "$\\lambda_1$, $\\lambda_2$, необходио найти интеграл\n",
    "$$\n",
    "R(\\lambda_1,\\lambda_2,T) = \\int_{\\lambda_1}^{\\lambda_2} \\varphi(\\lambda, T) d\\lambda.\n",
    "$$\n",
    "Применим эти знания к Солнцу.\n",
    "Нас не должно удивлять, что формулу для абсолютно черного тела мы\n",
    "применяем к Солцну. Среди тел нашей системы Солнце всех лучше\n",
    "удовлетворяет свойствам абсолютно черного тела.\n",
    "\n",
    "Чтобы узнать полную энергетическую светимость Солнца надо умножить\n",
    "$R(\\lambda_1,\\lambda_2,T)$ на площадь поверхности Солнца.\n",
    "\n",
    "Пригодится его радиус: $R = 6.957\\times 10^8$ (м)\n",
    "\n",
    " 1. Постройте для Солнца график зависимости $\\varphi(\\lambda, T)$ от $\\lambda$.\n",
    "\n",
    " 2. С помощью численного интегрирования найдите светимость Солнца\n",
    "на видимой области длин волн, т.\\,е. для $\\lambda$ в диапазоне от \n",
    "$\\lambda_1 = 3.5\\times 10^{-7}$ до $\\lambda_2 = 7\\times 10^{-7}$.\n",
    "\n",
    " 3. Найдите также светимость Солнца для всех длин волн: от $0$ до $\\infty$\n",
    "(вам придется брать несобственный интеграл).\n",
    "\n",
    " 4. Этот интеграл, оказывается, можно взять аналитически\n",
    "и энергетическая светимость равна $R^* = \\sigma T^4$,\n",
    "где \n",
    "$$\n",
    "\\sigma = \\frac{8\\pi^5 k^4}{15 c^3 h^3}\n",
    "$$\n",
    "Это так называемый закон *Стефана–Больцмана*.\n",
    "Константа $\\sigma$ называется константой Стефана–Больцмана.\n",
    "Чтобы узнать полную энергетическую светимость не забудьте $R^*$\n",
    "умножить на площадь поверхности Солнца. Сравните полученный результат с результатом из предыдущего пункта.\n",
    "\n",
    " 5. Найдите так называемую *солнечную постоянную* –\n",
    "мощность солнечного излучения, падающего перпендикулярно на единичную площадку\n",
    "на высоте верхней границы атмосферы Земли.\n",
    "Вам пригодится расстояние от Солна до Земли: $149.6\\times 10^9$ м\n",
    "\n",
    " 6. Попробуйте найти вычисленные вами величины в литературе и сравните ваши значения с найденными.\n",
    " \n",
    " 7. Сделайте выводы."
   ]
  },
  {
   "cell_type": "markdown",
   "metadata": {},
   "source": [
    "# 1 График"
   ]
  },
  {
   "cell_type": "code",
   "execution_count": 335,
   "metadata": {
    "scrolled": false
   },
   "outputs": [
    {
     "data": {
      "image/png": "[encoded data removed]",
      "text/plain": [
       "<Figure size 360x288 with 1 Axes>"
      ]
     },
     "metadata": {
      "needs_background": "light"
     },
     "output_type": "display_data"
    }
   ],
   "source": [
    "import matplotlib.pyplot as plt\n",
    "import numpy as np\n",
    "from scipy import integrate\n",
    "plt.figure(figsize = (5,4))\n",
    "T = 5778\n",
    "c = 2.9979*10**8\n",
    "h = 6.6261*10**-34\n",
    "k = 1.3806*10**-23\n",
    "x = np.linspace(100*10**-9,1000*10**-9,100)\n",
    "y = (2*np.pi*h*c*c)/(x**5*(np.e**(h*c)/(x*k*T) - 1))\n",
    "plt.title('график зависимости')\n",
    "plt.xlabel('x - длина волны')\n",
    "plt.ylabel('y - спектральная плотность энергетической светимости')\n",
    "plt.plot (x,y)\n",
    "pass"
   ]
  },
  {
   "cell_type": "markdown",
   "metadata": {},
   "source": [
    "# 2 Светимость Солнца на видимой области длин волн"
   ]
  },
  {
   "cell_type": "code",
   "execution_count": 308,
   "metadata": {},
   "outputs": [
    {
     "data": {
      "text/plain": [
       "2.0304858620540002e-16"
      ]
     },
     "execution_count": 308,
     "metadata": {},
     "output_type": "execute_result"
    }
   ],
   "source": [
    "a = 3.5 * 10**(-7)\n",
    "b = 7 * 10**(-7)\n",
    "n = 1000\n",
    "hh = (b - a)/n\n",
    "x = np.arange(a + hh/2, b, hh)\n",
    "y = (2*np.pi*h*c*c)/(x**5*(np.e**(h*c)/(x*k*T) - 1))\n",
    "I_rect = hh*sum(y)\n",
    "I_rect"
   ]
  },
  {
   "cell_type": "code",
   "execution_count": 260,
   "metadata": {},
   "outputs": [
    {
     "data": {
      "text/plain": [
       "1.9940563833570903e-16"
      ]
     },
     "execution_count": 260,
     "metadata": {},
     "output_type": "execute_result"
    }
   ],
   "source": [
    "I_trapz = integrate.trapz(y, x)\n",
    "I_trapz"
   ]
  },
  {
   "cell_type": "code",
   "execution_count": 261,
   "metadata": {},
   "outputs": [
    {
     "data": {
      "text/plain": [
       "1.9938429993249287e-16"
      ]
     },
     "execution_count": 261,
     "metadata": {},
     "output_type": "execute_result"
    }
   ],
   "source": [
    "I_simps = integrate.simps(y, x)\n",
    "I_simps"
   ]
  },
  {
   "cell_type": "code",
   "execution_count": 315,
   "metadata": {},
   "outputs": [
    {
     "data": {
      "text/plain": [
       "1212.6761283350654"
      ]
     },
     "execution_count": 315,
     "metadata": {},
     "output_type": "execute_result"
    }
   ],
   "source": [
    "Rs = 6.957 * 10**8  #Радиус Солнца\n",
    "Lv = I_simps * 4 * np.pi * Rs**2\n",
    "Lv #светимость Солнца на видимой области длин волн (Вт)"
   ]
  },
  {
   "cell_type": "markdown",
   "metadata": {},
   "source": [
    "# 3 Светимость Солнца для всех длин волн: от 0 до  ∞"
   ]
  },
  {
   "cell_type": "code",
   "execution_count": 290,
   "metadata": {},
   "outputs": [
    {
     "data": {
      "text/plain": [
       "(8.202259989279213e-27, 1.61801232989049e-26)"
      ]
     },
     "execution_count": 290,
     "metadata": {},
     "output_type": "execute_result"
    }
   ],
   "source": [
    "import scipy\n",
    "def integrand (x):\n",
    "  return (2*np.pi*h*c*c)/(x**5*(np.e**(h*c)/(x*k*T) - 1))\n",
    "\n",
    "i, abserr = scipy.integrate.quad(integrand, 0, np.inf)\n",
    "i, abserr"
   ]
  },
  {
   "cell_type": "code",
   "execution_count": 293,
   "metadata": {},
   "outputs": [
    {
     "data": {
      "text/plain": [
       "4.98870015882116e-08"
      ]
     },
     "execution_count": 293,
     "metadata": {},
     "output_type": "execute_result"
    }
   ],
   "source": [
    "ans = i *4*np.pi*Rs**2\n",
    "ans"
   ]
  },
  {
   "cell_type": "markdown",
   "metadata": {},
   "source": [
    "# 4 Закон Стефана-Больцмана"
   ]
  },
  {
   "cell_type": "markdown",
   "metadata": {},
   "source": [
    "Найдем светимость солнца через закон *Стефана–Больцмана*"
   ]
  },
  {
   "cell_type": "code",
   "execution_count": 313,
   "metadata": {},
   "outputs": [
    {
     "data": {
      "text/plain": [
       "3.843397958410175e+26"
      ]
     },
     "execution_count": 313,
     "metadata": {},
     "output_type": "execute_result"
    }
   ],
   "source": [
    "Rs = 6.957 * 10**8  #Радиус Солнца\n",
    "const_st_b = 2*(np.pi**5)*(k**4)/(15*(c**2)*(h**3)) #постоянная Стефана-Больцмана (Вт/(м^2 * K^4))\n",
    "R = const_st_b * T**4 #(Вт/м^2)\n",
    "L = R*4*np.pi*Rs**2  #(Вт)\n",
    "L"
   ]
  },
  {
   "cell_type": "markdown",
   "metadata": {},
   "source": [
    "# 5 Солнечная постоянная"
   ]
  },
  {
   "cell_type": "markdown",
   "metadata": {},
   "source": [
    "Считая Солнце чёрным телом, оценим энергию, приходящую от него на единичную площадку в окрестности Земли.\n",
    "Расстояние r между Землёй и Солнцем примем равным одной астрономической единице:"
   ]
  },
  {
   "cell_type": "code",
   "execution_count": 302,
   "metadata": {},
   "outputs": [],
   "source": [
    "r = 149.6 * 10**9  #(м)"
   ]
  },
  {
   "cell_type": "code",
   "execution_count": null,
   "metadata": {},
   "outputs": [],
   "source": [
    "Разделив светимость Солнца на площадь сферы радиуса r, получим так называемую солнечную постоянную, \n",
    "то есть, поток всего излучения, падающий вне атмосферы Земли на площадку единичной площади при среднем \n",
    "расстоянии Земли от Солнца:"
   ]
  },
  {
   "cell_type": "code",
   "execution_count": 307,
   "metadata": {},
   "outputs": [
    {
     "data": {
      "text/plain": [
       "1366.6027931665326"
      ]
     },
     "execution_count": 307,
     "metadata": {},
     "output_type": "execute_result"
    }
   ],
   "source": [
    "E = L/(4*np.pi*r**2) #(Вт/м^2)\n",
    "E"
   ]
  },
  {
   "cell_type": "markdown",
   "metadata": {},
   "source": []
  },
  {
   "cell_type": "code",
   "execution_count": null,
   "metadata": {},
   "outputs": [],
   "source": []
  }
 ],
 "metadata": {
  "kernelspec": {
   "display_name": "Python 3",
   "language": "python",
   "name": "python3"
  },
  "language_info": {
   "codemirror_mode": {
    "name": "ipython",
    "version": 3
   },
   "file_extension": ".py",
   "mimetype": "text/x-python",
   "name": "python",
   "nbconvert_exporter": "python",
   "pygments_lexer": "ipython3",
   "version": "3.7.6"
  }
 },
 "nbformat": 4,
 "nbformat_minor": 4
}
