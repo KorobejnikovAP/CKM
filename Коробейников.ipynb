{
 "cells": [
  {
   "cell_type": "markdown",
   "metadata": {},
   "source": [
    "# Зачетная работа \n",
    "*Коробейников А.П.* "
   ]
  },
  {
   "cell_type": "markdown",
   "metadata": {},
   "source": [
    "##  Численное интегрирование. Светимость черного тела\n",
    "\n",
    "1.Построить для Солнца график зависимости 𝜑(𝜆,𝑇) от 𝜆.\n",
    "\n",
    "2.Вычислить светимость Солнца на видимой области длин волн.\n",
    "\n",
    "3.Вычислить светимость Солнца для всех длин волн.\n",
    "\n",
    "4.Найти светимость Солнца с помощью закона Стефана - Больцмана.\n",
    "\n",
    "5.Найти солнечную постоянную.\n",
    "\n",
    "6.Результаты сравнить с данными из литературы.\n",
    "\n",
    "7.Сделать выводы."
   ]
  },
  {
   "cell_type": "markdown",
   "metadata": {},
   "source": [
    "## 1 График"
   ]
  },
  {
   "cell_type": "code",
   "execution_count": 460,
   "metadata": {
    "scrolled": false
   },
   "outputs": [
    {
     "data": {
      "image/png": "[encoded data removed]",
      "text/plain": [
       "<Figure size 360x288 with 1 Axes>"
      ]
     },
     "metadata": {
      "needs_background": "light"
     },
     "output_type": "display_data"
    }
   ],
   "source": [
    "import matplotlib.pyplot as plt\n",
    "import numpy as np\n",
    "from scipy import integrate\n",
    "plt.figure(figsize = (5,4))\n",
    "T = 5778\n",
    "c = 2.9979*10**8\n",
    "h = 6.6261*10**-34\n",
    "k = 1.3806*10**-23\n",
    "x = np.linspace(1*10**-7,50*10**-7,100)\n",
    "y = (2*np.pi*h*c**2)/(x**5*(np.e**((h*c)/(x*k*T)) - 1))\n",
    "plt.plot (x,y)\n",
    "pass"
   ]
  },
  {
   "cell_type": "markdown",
   "metadata": {},
   "source": [
    "## 2 Светимость Солнца на видимой области длин волн"
   ]
  },
  {
   "cell_type": "code",
   "execution_count": 471,
   "metadata": {},
   "outputs": [
    {
     "data": {
      "text/plain": [
       "26456374.429090716"
      ]
     },
     "execution_count": 471,
     "metadata": {},
     "output_type": "execute_result"
    }
   ],
   "source": [
    "a = 3.5 * (10**(-7))\n",
    "b = 7 * (10**(-7))\n",
    "n = 100\n",
    "hh = (b - a)/n\n",
    "x = np.arange(a + hh/2, b, hh)\n",
    "y = (2*np.pi*h*c**2)/((x**5)*((np.e**((h*c)/(x*k*T))-1)))\n",
    "I_rect = hh*sum(y)\n",
    "I_rect"
   ]
  },
  {
   "cell_type": "code",
   "execution_count": 472,
   "metadata": {},
   "outputs": [
    {
     "data": {
      "text/plain": [
       "26239134.004388973"
      ]
     },
     "execution_count": 472,
     "metadata": {},
     "output_type": "execute_result"
    }
   ],
   "source": [
    "I_trapz = integrate.trapz(y, x)\n",
    "I_trapz"
   ]
  },
  {
   "cell_type": "code",
   "execution_count": 487,
   "metadata": {
    "scrolled": true
   },
   "outputs": [
    {
     "name": "stdout",
     "output_type": "stream",
     "text": [
      "26239611.853874616\n"
     ]
    }
   ],
   "source": [
    "I_simps = integrate.simps(y, x)\n",
    "print(I_simps)"
   ]
  },
  {
   "cell_type": "code",
   "execution_count": 503,
   "metadata": {
    "scrolled": false
   },
   "outputs": [
    {
     "data": {
      "text/plain": [
       "1.595920587666389e+26"
      ]
     },
     "execution_count": 503,
     "metadata": {},
     "output_type": "execute_result"
    }
   ],
   "source": [
    "Rs = 6.957 * 10**8  #Радиус Солнца\n",
    "Lv = I_simps * 4 * np.pi * Rs**2 #умножим найденный интеграл на площадь поверхности Солнца и получим результат\n",
    "Lv #светимость Солнца на видимой области длин волн (Вт)"
   ]
  },
  {
   "cell_type": "markdown",
   "metadata": {},
   "source": [
    "## 3 Светимость Солнца для всех длин волн через несобственный интеграл"
   ]
  },
  {
   "cell_type": "code",
   "execution_count": 507,
   "metadata": {},
   "outputs": [
    {
     "name": "stderr",
     "output_type": "stream",
     "text": [
      "C:\\ProgramData\\Anaconda3\\lib\\site-packages\\ipykernel_launcher.py:5: IntegrationWarning: The algorithm does not converge.  Roundoff error is detected\n",
      "  in the extrapolation table.  It is assumed that the requested tolerance\n",
      "  cannot be achieved, and that the returned result (if full_output = 1) is \n",
      "  the best which can be obtained.\n",
      "  \"\"\"\n"
     ]
    },
    {
     "data": {
      "text/plain": [
       "62936791.375977986"
      ]
     },
     "execution_count": 507,
     "metadata": {},
     "output_type": "execute_result"
    }
   ],
   "source": [
    "import scipy\n",
    "def integrand (x):\n",
    "  return (2*np.pi*h*c**2)/(x**5*(np.e**((h*c)/(x*k*T)) - 1))\n",
    "\n",
    "_R, abserr = scipy.integrate.quad(integrand, 0, np.inf)\n",
    "_R "
   ]
  },
  {
   "cell_type": "code",
   "execution_count": 508,
   "metadata": {},
   "outputs": [
    {
     "data": {
      "text/plain": [
       "3.8278813588378646e+26"
      ]
     },
     "execution_count": 508,
     "metadata": {},
     "output_type": "execute_result"
    }
   ],
   "source": [
    "ans = _R * 4 * np.pi * Rs**2\n",
    "ans #светимость Солнца для всех длин волн"
   ]
  },
  {
   "cell_type": "markdown",
   "metadata": {},
   "source": [
    "## 4 Закон Стефана-Больцмана"
   ]
  },
  {
   "cell_type": "markdown",
   "metadata": {},
   "source": [
    "Найдем светимость Солнца с помощью закона *Стефана–Больцмана*"
   ]
  },
  {
   "cell_type": "code",
   "execution_count": 505,
   "metadata": {},
   "outputs": [
    {
     "data": {
      "text/plain": [
       "3.843397958410175e+26"
      ]
     },
     "execution_count": 505,
     "metadata": {},
     "output_type": "execute_result"
    }
   ],
   "source": [
    "Rs = 6.957 * 10**8  #Радиус Солнца\n",
    "const_st_b = 2*(np.pi**5)*(k**4)/(15*(c**2)*(h**3)) #постоянная Стефана-Больцмана (Вт/(м^2 * K^4))\n",
    "R = const_st_b * T**4 #(Вт/м^2) \n",
    "L = R*4*np.pi*Rs**2  #(Вт)\n",
    "L"
   ]
  },
  {
   "cell_type": "markdown",
   "metadata": {},
   "source": [
    "## 5 Солнечная постоянная"
   ]
  },
  {
   "cell_type": "markdown",
   "metadata": {},
   "source": [
    "Считая Солнце чёрным телом, оценим энергию, приходящую от него на единичную площадку в окрестности Земли.\n",
    "Расстояние r между Землёй и Солнцем примем равным :"
   ]
  },
  {
   "cell_type": "code",
   "execution_count": 481,
   "metadata": {},
   "outputs": [],
   "source": [
    "r = 149.6 * 10**9  #(м)"
   ]
  },
  {
   "cell_type": "markdown",
   "metadata": {},
   "source": [
    "Разделив светимость Солнца на площадь сферы радиуса r, получим так называемую солнечную постоянную,\n",
    "то есть, поток всего излучения, падающий вне атмосферы Земли на площадку единичной площади при среднем \n",
    "расстоянии Земли от Солнца:"
   ]
  },
  {
   "cell_type": "code",
   "execution_count": 501,
   "metadata": {},
   "outputs": [
    {
     "data": {
      "text/plain": [
       "1366.6027931665326"
      ]
     },
     "execution_count": 501,
     "metadata": {},
     "output_type": "execute_result"
    }
   ],
   "source": [
    "E = L/(4*np.pi*r**2) #(Вт/м^2)\n",
    "E"
   ]
  },
  {
   "cell_type": "markdown",
   "metadata": {},
   "source": [
    "## 6 Результаты\n"
   ]
  },
  {
   "cell_type": "markdown",
   "metadata": {},
   "source": [
    "Данные из википедии: Солнечная светимость L = 3.827 * 10^26 (Вт); Солнечная постоянная E = 1367 (Вт/м^2).\n",
    "\n",
    "Результаты полученные в ходе работы:\n",
    "\n",
    "1.Светимость Солнца найденная с помощью закона Стефана-Больцмана: 3.843 * 10^26 (Вт).\n",
    "\n",
    "2.Светимость Солнца найденная с помощью несобстевнного интеграла: 3.827 * 10^26 (Вт).\n",
    "\n",
    "3.Светимость солнца на видимой области длин волн: 1.595 * 10^26 (Вт).\n",
    "\n",
    "4.Солнечная постоянная: 1366.602 (Вт/м^2)."
   ]
  },
  {
   "cell_type": "markdown",
   "metadata": {},
   "source": [
    "## 7 Выводы"
   ]
  },
  {
   "cell_type": "markdown",
   "metadata": {},
   "source": [
    "1.С учетом погрешности вычисленные результаты совпадают с результатами из литературы.\n",
    "\n",
    "2.Вычисленния с помощью несобственного интеграла дали более точный результат.\n",
    "\n",
    "3.Метод трапеций и метод Симпсона более точно вычисляют определенный интеграл."
   ]
  }
 ],
 "metadata": {
  "kernelspec": {
   "display_name": "Python 3",
   "language": "python",
   "name": "python3"
  },
  "language_info": {
   "codemirror_mode": {
    "name": "ipython",
    "version": 3
   },
   "file_extension": ".py",
   "mimetype": "text/x-python",
   "name": "python",
   "nbconvert_exporter": "python",
   "pygments_lexer": "ipython3",
   "version": "3.7.6"
  }
 },
 "nbformat": 4,
 "nbformat_minor": 4
}
